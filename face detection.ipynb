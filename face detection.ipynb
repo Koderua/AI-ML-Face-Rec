{
 "cells": [
  {
   "cell_type": "code",
   "execution_count": 3,
   "id": "6667ab53-6977-4e4c-81ae-b2d57bb4e09a",
   "metadata": {},
   "outputs": [],
   "source": [
    "import cv2\n",
    "import numpy as np\n",
    "import face_recognition as fr"
   ]
  },
  {
   "cell_type": "code",
   "execution_count": 4,
   "id": "a873cbc0-62db-4fe9-9dfc-fc8112b090ca",
   "metadata": {},
   "outputs": [],
   "source": [
    "video_capture = cv2.VideoCapture(0)"
   ]
  },
  {
   "cell_type": "code",
   "execution_count": 5,
   "id": "6b4a8e9a-2214-48a9-8879-f4ffe3ba0924",
   "metadata": {},
   "outputs": [],
   "source": [
    "image = fr.load_image_file('boy.jpeg')"
   ]
  },
  {
   "cell_type": "code",
   "execution_count": 6,
   "id": "b45d0f47-8be6-42b9-a4a4-ab0602f543b8",
   "metadata": {},
   "outputs": [],
   "source": [
    "image_face_encoding = fr.face_encodings(image)[0]"
   ]
  },
  {
   "cell_type": "code",
   "execution_count": 7,
   "id": "02edd670-e57a-47dd-9844-df713b613006",
   "metadata": {},
   "outputs": [],
   "source": [
    "known_face_encodings = [image_face_encoding]"
   ]
  },
  {
   "cell_type": "code",
   "execution_count": 8,
   "id": "523fa04d-0bd1-4f1d-90b4-90677cdfec23",
   "metadata": {},
   "outputs": [],
   "source": [
    "known_face_names = [\"Kibirt\"]"
   ]
  },
  {
   "cell_type": "code",
   "execution_count": null,
   "id": "3da7928d-925e-42a5-b2fa-54904013e580",
   "metadata": {},
   "outputs": [
    {
     "name": "stderr",
     "output_type": "stream",
     "text": [
      "2024-02-23 11:30:04.092 Python[1614:62707] WARNING: Secure coding is automatically enabled for restorable state! However, not on all supported macOS versions of this application. Opt-in to secure coding explicitly by implementing NSApplicationDelegate.applicationSupportsSecureRestorableState:.\n"
     ]
    }
   ],
   "source": [
    "while True:\n",
    "    ret, frame = video_capture.read()\n",
    "    rgb_frame = np.ascontiguousarray(frame[:, :, ::-1])\n",
    "    fc_locations = fr.face_locations(rgb_frame)\n",
    "    fc_encodings = fr.face_encodings(rgb_frame, fc_locations)\n",
    "    for(top, right, bottom, left), face_encoding in zip(fc_locations, fc_encodings):\n",
    "        matches = fr.compare_faces(known_face_encodings, face_encoding)\n",
    "        name = \"unknown\"\n",
    "        fc_distances = fr.face_distance(known_face_encodings, face_encoding)\n",
    "        match_index = np.argmin(fc_distances)\n",
    "        if matches[match_index]:\n",
    "            name = known_face_names[match_index]\n",
    "        cv2.rectangle(frame, (left, top), (right, bottom), (0,0,255), 2)\n",
    "        cv2.rectangle(frame, (left, bottom - 35), (right, bottom), (0,0,255), cv2.FILLED)\n",
    "        font = cv2.FONT_HERSHEY_SIMPLEX\n",
    "        cv2.putText(frame, name, (left +6, bottom -6), font, 1.0, (255, 255, 255), 1)\n",
    "    cv2.imshow('Simplilearn face detection system', frame)\n",
    "    if cv2.waitKey(1) & 0xFF == ord('q'):\n",
    "        break\n",
    "video_capture.release()\n",
    "cv2.destroyAllWindows()"
   ]
  },
  {
   "cell_type": "code",
   "execution_count": null,
   "id": "d7de51ad-ab03-4077-9981-fdf5b3f4d112",
   "metadata": {},
   "outputs": [],
   "source": []
  }
 ],
 "metadata": {
  "kernelspec": {
   "display_name": "Python 3 (ipykernel)",
   "language": "python",
   "name": "python3"
  },
  "language_info": {
   "codemirror_mode": {
    "name": "ipython",
    "version": 3
   },
   "file_extension": ".py",
   "mimetype": "text/x-python",
   "name": "python",
   "nbconvert_exporter": "python",
   "pygments_lexer": "ipython3",
   "version": "3.9.6"
  }
 },
 "nbformat": 4,
 "nbformat_minor": 5
}
